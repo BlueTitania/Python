{
 "cells": [
  {
   "cell_type": "markdown",
   "metadata": {},
   "source": [
    "Кластеризация выборки\n",
    "----\n",
    "Перед нами стоит задача проанализировать клиентов в выборке, провести кластеризацию, сделать описание сегментов.  \n",
    "В данном случае будет применять обучение без учителя, для того чтобы найти шаблоный данных.  \n",
    "   \n",
    "   Сохраним данную выборку в формате csv, при помощи excel. И загрузим наш DataFrame.\n",
    "  "
   ]
  },
  {
   "cell_type": "code",
   "execution_count": 2,
   "metadata": {},
   "outputs": [
    {
     "data": {
      "text/html": [
       "<div>\n",
       "<style scoped>\n",
       "    .dataframe tbody tr th:only-of-type {\n",
       "        vertical-align: middle;\n",
       "    }\n",
       "\n",
       "    .dataframe tbody tr th {\n",
       "        vertical-align: top;\n",
       "    }\n",
       "\n",
       "    .dataframe thead th {\n",
       "        text-align: right;\n",
       "    }\n",
       "</style>\n",
       "<table border=\"1\" class=\"dataframe\">\n",
       "  <thead>\n",
       "    <tr style=\"text-align: right;\">\n",
       "      <th></th>\n",
       "      <th>Персона</th>\n",
       "      <th>Возраст, лет</th>\n",
       "      <th>Стаж вождения, лет</th>\n",
       "      <th>Убыточность, %</th>\n",
       "      <th>Уровень заработной платы, руб/год</th>\n",
       "    </tr>\n",
       "  </thead>\n",
       "  <tbody>\n",
       "    <tr>\n",
       "      <th>0</th>\n",
       "      <td>6-LLJEH</td>\n",
       "      <td>20</td>\n",
       "      <td>1</td>\n",
       "      <td>263</td>\n",
       "      <td>716693</td>\n",
       "    </tr>\n",
       "    <tr>\n",
       "      <th>1</th>\n",
       "      <td>2-GLHFG</td>\n",
       "      <td>74</td>\n",
       "      <td>51</td>\n",
       "      <td>107</td>\n",
       "      <td>274393</td>\n",
       "    </tr>\n",
       "    <tr>\n",
       "      <th>2</th>\n",
       "      <td>6-FJFKL</td>\n",
       "      <td>27</td>\n",
       "      <td>1</td>\n",
       "      <td>165</td>\n",
       "      <td>723841</td>\n",
       "    </tr>\n",
       "    <tr>\n",
       "      <th>3</th>\n",
       "      <td>4-KJEJL</td>\n",
       "      <td>24</td>\n",
       "      <td>6</td>\n",
       "      <td>348</td>\n",
       "      <td>139419</td>\n",
       "    </tr>\n",
       "    <tr>\n",
       "      <th>4</th>\n",
       "      <td>5-JFFGH</td>\n",
       "      <td>26</td>\n",
       "      <td>3</td>\n",
       "      <td>286</td>\n",
       "      <td>650003</td>\n",
       "    </tr>\n",
       "  </tbody>\n",
       "</table>\n",
       "</div>"
      ],
      "text/plain": [
       "   Персона  Возраст, лет  Стаж вождения, лет  Убыточность, %  \\\n",
       "0  6-LLJEH            20                   1             263   \n",
       "1  2-GLHFG            74                  51             107   \n",
       "2  6-FJFKL            27                   1             165   \n",
       "3  4-KJEJL            24                   6             348   \n",
       "4  5-JFFGH            26                   3             286   \n",
       "\n",
       "   Уровень заработной платы, руб/год  \n",
       "0                             716693  \n",
       "1                             274393  \n",
       "2                             723841  \n",
       "3                             139419  \n",
       "4                             650003  "
      ]
     },
     "execution_count": 2,
     "metadata": {},
     "output_type": "execute_result"
    }
   ],
   "source": [
    "import pandas as pd\n",
    "import numpy as np\n",
    "import matplotlib.pyplot as plt\n",
    "df = pd.read_csv('Data.csv', delimiter  = ';', encoding = 'cp1251')\n",
    "df.head(5)"
   ]
  },
  {
   "cell_type": "markdown",
   "metadata": {},
   "source": [
    "Так как перед нами не стоит задача отпределить к какому классу относится определенный клиент, можно убрать данный признак. Скорее всего никаких негативных последствий это не принесет, а вот время приведения его к типу int или float будет потрачено."
   ]
  },
  {
   "cell_type": "code",
   "execution_count": 3,
   "metadata": {},
   "outputs": [],
   "source": [
    "df = df.drop('Персона', axis=1)"
   ]
  },
  {
   "cell_type": "markdown",
   "metadata": {},
   "source": [
    "Метод главных компонент (PCA)\n",
    "--\n",
    "Для повышения точности решащих деревьек других методов обучения снизим размерность выборки. Так же нам это позволит представить кластеризованую выборку на двумерном графике"
   ]
  },
  {
   "cell_type": "code",
   "execution_count": 4,
   "metadata": {},
   "outputs": [],
   "source": [
    "from sklearn.decomposition import PCA\n",
    "pca_reducer = PCA(n_components=2)\n",
    "reduced_data = pca_reducer.fit_transform(df)"
   ]
  },
  {
   "cell_type": "code",
   "execution_count": 5,
   "metadata": {},
   "outputs": [
    {
     "data": {
      "text/plain": [
       "(484, 2)"
      ]
     },
     "execution_count": 5,
     "metadata": {},
     "output_type": "execute_result"
    }
   ],
   "source": [
    "reduced_data.shape"
   ]
  },
  {
   "cell_type": "markdown",
   "metadata": {},
   "source": [
    "Выбор количества кластеров\n",
    "--\n",
    "Вообще определения кластеров это отдельная задача, которую можно долго, или не очень долго, решать. Как правило, количество кластеров, при сегментации рынка, поступает от отдела маркетинга, который сообщает, что у него есть бюджет только на 5 рекламных акций, которые должны быть направлены на разные сегменты клиентов.  \n",
    "  \n",
    "Для решения этого вопроса часто пользуемся такой эвристикой: выбираем то число кластеров, начиная с которого описанный функционал (inertia) падает \"уже не так быстро\"."
   ]
  },
  {
   "cell_type": "code",
   "execution_count": 62,
   "metadata": {},
   "outputs": [],
   "source": [
    "from sklearn.cluster import KMeans\n",
    "\n",
    "ks = range(1, 7)\n",
    "inertias = []\n",
    "\n",
    "for k in ks:\n",
    "    model = KMeans(n_clusters=k)\n",
    "    model.fit(reduced_data)\n",
    "    inertias.append(model.inertia_)"
   ]
  },
  {
   "cell_type": "code",
   "execution_count": 63,
   "metadata": {},
   "outputs": [
    {
     "data": {
      "image/png": "[encoded data removed]",
      "text/plain": [
       "<Figure size 432x288 with 1 Axes>"
      ]
     },
     "metadata": {},
     "output_type": "display_data"
    }
   ],
   "source": [
    "import matplotlib.pyplot as plt\n",
    "plt.plot(ks, inertias, '-o')\n",
    "plt.xlabel('number of clusters, k')\n",
    "plt.ylabel('inertia')\n",
    "plt.xticks(ks)\n",
    "plt.show()"
   ]
  },
  {
   "cell_type": "markdown",
   "metadata": {},
   "source": [
    "Видим, что начиная с 4 кретий падает не так быстро, так что предположим, что у нас имеется 6 кластеров.  \n",
    "  \n",
    "Кластеризацию проведем при помощи метода k-средних. "
   ]
  },
  {
   "cell_type": "code",
   "execution_count": 66,
   "metadata": {},
   "outputs": [],
   "source": [
    "km = KMeans(n_clusters = 4, random_state=0)\n",
    "cluster = km.fit(reduced_data)\n",
    "df2 = pd.read_csv('Data.csv', delimiter  = ';', encoding = 'cp1251')\n",
    "clusters = km.fit_predict(reduced_data)"
   ]
  },
  {
   "cell_type": "code",
   "execution_count": 67,
   "metadata": {
    "scrolled": true
   },
   "outputs": [
    {
     "data": {
      "image/png": "[encoded data removed]",
      "text/plain": [
       "<Figure size 864x288 with 1 Axes>"
      ]
     },
     "metadata": {},
     "output_type": "display_data"
    }
   ],
   "source": [
    "plt.figure(figsize=(12, 4))\n",
    "plt.scatter(reduced_data[:, 0], reduced_data[:, 1], label='Datapoints', c = clusters)\n",
    "plt.scatter(cluster.cluster_centers_[:, 0], cluster.cluster_centers_[:, 1], label='Clusters', c = 'red')\n",
    "plt.legend()\n",
    "plt.show()"
   ]
  },
  {
   "cell_type": "markdown",
   "metadata": {},
   "source": [
    "Полученный ответ соединим с исходной выборкой, для возможности дальнейшего описания каждого кластера"
   ]
  },
  {
   "cell_type": "code",
   "execution_count": 68,
   "metadata": {},
   "outputs": [],
   "source": [
    "df1 = pd.DataFrame({'Cluster' : clusters})"
   ]
  },
  {
   "cell_type": "code",
   "execution_count": 69,
   "metadata": {},
   "outputs": [],
   "source": [
    "result = pd.concat([df, df1], axis=1, join_axes=[df.index])\n",
    "result.head(5)\n",
    "pd.options.display.float_format = \"{:.2f}\".format"
   ]
  },
  {
   "cell_type": "markdown",
   "metadata": {},
   "source": [
    "Описание кластеров\n",
    "--\n"
   ]
  },
  {
   "cell_type": "markdown",
   "metadata": {},
   "source": [
    "К **первому кластеру (cluster0)** относится 242 клиента - это видно из персой строки (cluster count)  \n",
    "Средний возраст клиентов в данной группе = ~ 50 лет (Возраст mean). Возраст лежит в границах от 22 лет до 79 (Вораст min и max).  \n",
    "Средний стаж вождения = ~ 27 лет. Лежит в пределах от 4 до 58 лет.  \n",
    "Средняя убыточность = ~ 320% и лежит в пределах от 92% до 700%.  \n",
    "Средний уровень заработной платы = ~ 200 т.руб в год. Варьируется в пределах от 120 т.руб и 280 т.руб  \n",
    "   \n",
    "   Таким образом к данному кластеру относится люди, со средним или ниже стреднего уровнем дохода, которые купили вынужденное обязательное страхование. Уровень убятков от клиентов данного сегмента весьма ощутимый для компании, возможно среди него стоит искасть страховых мошенников."
   ]
  },
  {
   "cell_type": "code",
   "execution_count": 70,
   "metadata": {},
   "outputs": [
    {
     "data": {
      "text/html": [
       "<div>\n",
       "<style scoped>\n",
       "    .dataframe tbody tr th:only-of-type {\n",
       "        vertical-align: middle;\n",
       "    }\n",
       "\n",
       "    .dataframe tbody tr th {\n",
       "        vertical-align: top;\n",
       "    }\n",
       "\n",
       "    .dataframe thead th {\n",
       "        text-align: right;\n",
       "    }\n",
       "</style>\n",
       "<table border=\"1\" class=\"dataframe\">\n",
       "  <thead>\n",
       "    <tr style=\"text-align: right;\">\n",
       "      <th></th>\n",
       "      <th>Возраст, лет</th>\n",
       "      <th>Стаж вождения, лет</th>\n",
       "      <th>Убыточность, %</th>\n",
       "      <th>Уровень заработной платы, руб/год</th>\n",
       "      <th>Cluster</th>\n",
       "    </tr>\n",
       "  </thead>\n",
       "  <tbody>\n",
       "    <tr>\n",
       "      <th>count</th>\n",
       "      <td>242.00</td>\n",
       "      <td>242.00</td>\n",
       "      <td>242.00</td>\n",
       "      <td>242.00</td>\n",
       "      <td>242.00</td>\n",
       "    </tr>\n",
       "    <tr>\n",
       "      <th>mean</th>\n",
       "      <td>49.98</td>\n",
       "      <td>26.57</td>\n",
       "      <td>319.76</td>\n",
       "      <td>196210.03</td>\n",
       "      <td>0.00</td>\n",
       "    </tr>\n",
       "    <tr>\n",
       "      <th>std</th>\n",
       "      <td>20.63</td>\n",
       "      <td>19.82</td>\n",
       "      <td>187.12</td>\n",
       "      <td>51367.41</td>\n",
       "      <td>0.00</td>\n",
       "    </tr>\n",
       "    <tr>\n",
       "      <th>min</th>\n",
       "      <td>22.00</td>\n",
       "      <td>4.00</td>\n",
       "      <td>92.00</td>\n",
       "      <td>120185.00</td>\n",
       "      <td>0.00</td>\n",
       "    </tr>\n",
       "    <tr>\n",
       "      <th>25%</th>\n",
       "      <td>30.00</td>\n",
       "      <td>7.00</td>\n",
       "      <td>153.00</td>\n",
       "      <td>148795.50</td>\n",
       "      <td>0.00</td>\n",
       "    </tr>\n",
       "    <tr>\n",
       "      <th>50%</th>\n",
       "      <td>48.50</td>\n",
       "      <td>21.50</td>\n",
       "      <td>257.50</td>\n",
       "      <td>189953.00</td>\n",
       "      <td>0.00</td>\n",
       "    </tr>\n",
       "    <tr>\n",
       "      <th>75%</th>\n",
       "      <td>70.00</td>\n",
       "      <td>46.00</td>\n",
       "      <td>470.25</td>\n",
       "      <td>243156.75</td>\n",
       "      <td>0.00</td>\n",
       "    </tr>\n",
       "    <tr>\n",
       "      <th>max</th>\n",
       "      <td>79.00</td>\n",
       "      <td>58.00</td>\n",
       "      <td>700.00</td>\n",
       "      <td>279472.00</td>\n",
       "      <td>0.00</td>\n",
       "    </tr>\n",
       "  </tbody>\n",
       "</table>\n",
       "</div>"
      ],
      "text/plain": [
       "       Возраст, лет  Стаж вождения, лет  Убыточность, %  \\\n",
       "count        242.00              242.00          242.00   \n",
       "mean          49.98               26.57          319.76   \n",
       "std           20.63               19.82          187.12   \n",
       "min           22.00                4.00           92.00   \n",
       "25%           30.00                7.00          153.00   \n",
       "50%           48.50               21.50          257.50   \n",
       "75%           70.00               46.00          470.25   \n",
       "max           79.00               58.00          700.00   \n",
       "\n",
       "       Уровень заработной платы, руб/год  Cluster  \n",
       "count                             242.00   242.00  \n",
       "mean                           196210.03     0.00  \n",
       "std                             51367.41     0.00  \n",
       "min                            120185.00     0.00  \n",
       "25%                            148795.50     0.00  \n",
       "50%                            189953.00     0.00  \n",
       "75%                            243156.75     0.00  \n",
       "max                            279472.00     0.00  "
      ]
     },
     "execution_count": 70,
     "metadata": {},
     "output_type": "execute_result"
    }
   ],
   "source": [
    "cluster0 = result[result['Cluster']== 0 ]\n",
    "cluster0.describe()"
   ]
  },
  {
   "cell_type": "markdown",
   "metadata": {},
   "source": [
    "Проведя подобный анализ как для первого кластера, можно заметить,что людей во втором кластере заметно менше, всего 66 человек. Но это зрелые люди, с высоким уровнем дохода и длительным стажем вожения. Скорее всего они приобретают страховку с максимальным покрытием, так как у них дорогой автомобиль. "
   ]
  },
  {
   "cell_type": "code",
   "execution_count": 72,
   "metadata": {},
   "outputs": [
    {
     "data": {
      "text/html": [
       "<div>\n",
       "<style scoped>\n",
       "    .dataframe tbody tr th:only-of-type {\n",
       "        vertical-align: middle;\n",
       "    }\n",
       "\n",
       "    .dataframe tbody tr th {\n",
       "        vertical-align: top;\n",
       "    }\n",
       "\n",
       "    .dataframe thead th {\n",
       "        text-align: right;\n",
       "    }\n",
       "</style>\n",
       "<table border=\"1\" class=\"dataframe\">\n",
       "  <thead>\n",
       "    <tr style=\"text-align: right;\">\n",
       "      <th></th>\n",
       "      <th>Возраст, лет</th>\n",
       "      <th>Стаж вождения, лет</th>\n",
       "      <th>Убыточность, %</th>\n",
       "      <th>Уровень заработной платы, руб/год</th>\n",
       "      <th>Cluster</th>\n",
       "    </tr>\n",
       "  </thead>\n",
       "  <tbody>\n",
       "    <tr>\n",
       "      <th>count</th>\n",
       "      <td>66.00</td>\n",
       "      <td>66.00</td>\n",
       "      <td>66.00</td>\n",
       "      <td>66.00</td>\n",
       "      <td>66.00</td>\n",
       "    </tr>\n",
       "    <tr>\n",
       "      <th>mean</th>\n",
       "      <td>56.71</td>\n",
       "      <td>29.50</td>\n",
       "      <td>64.79</td>\n",
       "      <td>2526266.41</td>\n",
       "      <td>1.00</td>\n",
       "    </tr>\n",
       "    <tr>\n",
       "      <th>std</th>\n",
       "      <td>8.47</td>\n",
       "      <td>5.87</td>\n",
       "      <td>26.74</td>\n",
       "      <td>279102.07</td>\n",
       "      <td>0.00</td>\n",
       "    </tr>\n",
       "    <tr>\n",
       "      <th>min</th>\n",
       "      <td>41.00</td>\n",
       "      <td>20.00</td>\n",
       "      <td>21.00</td>\n",
       "      <td>2040290.00</td>\n",
       "      <td>1.00</td>\n",
       "    </tr>\n",
       "    <tr>\n",
       "      <th>25%</th>\n",
       "      <td>50.00</td>\n",
       "      <td>25.00</td>\n",
       "      <td>42.25</td>\n",
       "      <td>2276496.00</td>\n",
       "      <td>1.00</td>\n",
       "    </tr>\n",
       "    <tr>\n",
       "      <th>50%</th>\n",
       "      <td>57.00</td>\n",
       "      <td>30.00</td>\n",
       "      <td>58.50</td>\n",
       "      <td>2562182.00</td>\n",
       "      <td>1.00</td>\n",
       "    </tr>\n",
       "    <tr>\n",
       "      <th>75%</th>\n",
       "      <td>63.75</td>\n",
       "      <td>34.50</td>\n",
       "      <td>86.50</td>\n",
       "      <td>2757505.75</td>\n",
       "      <td>1.00</td>\n",
       "    </tr>\n",
       "    <tr>\n",
       "      <th>max</th>\n",
       "      <td>71.00</td>\n",
       "      <td>40.00</td>\n",
       "      <td>116.00</td>\n",
       "      <td>3012363.00</td>\n",
       "      <td>1.00</td>\n",
       "    </tr>\n",
       "  </tbody>\n",
       "</table>\n",
       "</div>"
      ],
      "text/plain": [
       "       Возраст, лет  Стаж вождения, лет  Убыточность, %  \\\n",
       "count         66.00               66.00           66.00   \n",
       "mean          56.71               29.50           64.79   \n",
       "std            8.47                5.87           26.74   \n",
       "min           41.00               20.00           21.00   \n",
       "25%           50.00               25.00           42.25   \n",
       "50%           57.00               30.00           58.50   \n",
       "75%           63.75               34.50           86.50   \n",
       "max           71.00               40.00          116.00   \n",
       "\n",
       "       Уровень заработной платы, руб/год  Cluster  \n",
       "count                              66.00    66.00  \n",
       "mean                          2526266.41     1.00  \n",
       "std                            279102.07     0.00  \n",
       "min                           2040290.00     1.00  \n",
       "25%                           2276496.00     1.00  \n",
       "50%                           2562182.00     1.00  \n",
       "75%                           2757505.75     1.00  \n",
       "max                           3012363.00     1.00  "
      ]
     },
     "execution_count": 72,
     "metadata": {},
     "output_type": "execute_result"
    }
   ],
   "source": [
    "cluster1 = result[result['Cluster']== 1 ]\n",
    "cluster1.describe()"
   ]
  },
  {
   "cell_type": "markdown",
   "metadata": {},
   "source": [
    "Третий кластер клиентов, это клиенты которые похожи на клиентов из второго кластера, но их уровень дохода выше, следовательно это отражается на дороговизне застрахованного автомобиля и размера страховых услуг."
   ]
  },
  {
   "cell_type": "code",
   "execution_count": 74,
   "metadata": {},
   "outputs": [
    {
     "data": {
      "text/html": [
       "<div>\n",
       "<style scoped>\n",
       "    .dataframe tbody tr th:only-of-type {\n",
       "        vertical-align: middle;\n",
       "    }\n",
       "\n",
       "    .dataframe tbody tr th {\n",
       "        vertical-align: top;\n",
       "    }\n",
       "\n",
       "    .dataframe thead th {\n",
       "        text-align: right;\n",
       "    }\n",
       "</style>\n",
       "<table border=\"1\" class=\"dataframe\">\n",
       "  <thead>\n",
       "    <tr style=\"text-align: right;\">\n",
       "      <th></th>\n",
       "      <th>Возраст, лет</th>\n",
       "      <th>Стаж вождения, лет</th>\n",
       "      <th>Убыточность, %</th>\n",
       "      <th>Уровень заработной платы, руб/год</th>\n",
       "      <th>Cluster</th>\n",
       "    </tr>\n",
       "  </thead>\n",
       "  <tbody>\n",
       "    <tr>\n",
       "      <th>count</th>\n",
       "      <td>55.00</td>\n",
       "      <td>55.00</td>\n",
       "      <td>55.00</td>\n",
       "      <td>55.00</td>\n",
       "      <td>55.00</td>\n",
       "    </tr>\n",
       "    <tr>\n",
       "      <th>mean</th>\n",
       "      <td>56.95</td>\n",
       "      <td>30.45</td>\n",
       "      <td>66.91</td>\n",
       "      <td>3521699.51</td>\n",
       "      <td>2.00</td>\n",
       "    </tr>\n",
       "    <tr>\n",
       "      <th>std</th>\n",
       "      <td>9.09</td>\n",
       "      <td>5.80</td>\n",
       "      <td>25.26</td>\n",
       "      <td>289417.00</td>\n",
       "      <td>0.00</td>\n",
       "    </tr>\n",
       "    <tr>\n",
       "      <th>min</th>\n",
       "      <td>41.00</td>\n",
       "      <td>20.00</td>\n",
       "      <td>20.00</td>\n",
       "      <td>3032677.00</td>\n",
       "      <td>2.00</td>\n",
       "    </tr>\n",
       "    <tr>\n",
       "      <th>25%</th>\n",
       "      <td>48.50</td>\n",
       "      <td>26.00</td>\n",
       "      <td>50.00</td>\n",
       "      <td>3256313.00</td>\n",
       "      <td>2.00</td>\n",
       "    </tr>\n",
       "    <tr>\n",
       "      <th>50%</th>\n",
       "      <td>59.00</td>\n",
       "      <td>31.00</td>\n",
       "      <td>65.00</td>\n",
       "      <td>3574400.00</td>\n",
       "      <td>2.00</td>\n",
       "    </tr>\n",
       "    <tr>\n",
       "      <th>75%</th>\n",
       "      <td>64.50</td>\n",
       "      <td>35.00</td>\n",
       "      <td>87.50</td>\n",
       "      <td>3765073.00</td>\n",
       "      <td>2.00</td>\n",
       "    </tr>\n",
       "    <tr>\n",
       "      <th>max</th>\n",
       "      <td>71.00</td>\n",
       "      <td>40.00</td>\n",
       "      <td>114.00</td>\n",
       "      <td>3982828.00</td>\n",
       "      <td>2.00</td>\n",
       "    </tr>\n",
       "  </tbody>\n",
       "</table>\n",
       "</div>"
      ],
      "text/plain": [
       "       Возраст, лет  Стаж вождения, лет  Убыточность, %  \\\n",
       "count         55.00               55.00           55.00   \n",
       "mean          56.95               30.45           66.91   \n",
       "std            9.09                5.80           25.26   \n",
       "min           41.00               20.00           20.00   \n",
       "25%           48.50               26.00           50.00   \n",
       "50%           59.00               31.00           65.00   \n",
       "75%           64.50               35.00           87.50   \n",
       "max           71.00               40.00          114.00   \n",
       "\n",
       "       Уровень заработной платы, руб/год  Cluster  \n",
       "count                              55.00    55.00  \n",
       "mean                          3521699.51     2.00  \n",
       "std                            289417.00     0.00  \n",
       "min                           3032677.00     2.00  \n",
       "25%                           3256313.00     2.00  \n",
       "50%                           3574400.00     2.00  \n",
       "75%                           3765073.00     2.00  \n",
       "max                           3982828.00     2.00  "
      ]
     },
     "execution_count": 74,
     "metadata": {},
     "output_type": "execute_result"
    }
   ],
   "source": [
    "cluster2 = result[result['Cluster']== 2 ]\n",
    "cluster2.describe()"
   ]
  },
  {
   "cell_type": "markdown",
   "metadata": {},
   "source": [
    "К кластеру четыре относится 121 человек, то есть это довольно объемный клстер. Можно заметить, что этот сегмент состит в основном из молодых людей, с небольшим опытом вождения и средним уровнем достатка, т.е. это верхний уровень среднего класса. Скорее всего класс людей заинтересованный в покупке пакета страховых услуг шире чем базовый, так как им есть что страховать и терять, так же к покупке страховки их мотивирует малый опыт вождения и  тем самым повышенный страх за сохранность своего имущества. "
   ]
  },
  {
   "cell_type": "code",
   "execution_count": 75,
   "metadata": {},
   "outputs": [
    {
     "data": {
      "text/html": [
       "<div>\n",
       "<style scoped>\n",
       "    .dataframe tbody tr th:only-of-type {\n",
       "        vertical-align: middle;\n",
       "    }\n",
       "\n",
       "    .dataframe tbody tr th {\n",
       "        vertical-align: top;\n",
       "    }\n",
       "\n",
       "    .dataframe thead th {\n",
       "        text-align: right;\n",
       "    }\n",
       "</style>\n",
       "<table border=\"1\" class=\"dataframe\">\n",
       "  <thead>\n",
       "    <tr style=\"text-align: right;\">\n",
       "      <th></th>\n",
       "      <th>Возраст, лет</th>\n",
       "      <th>Стаж вождения, лет</th>\n",
       "      <th>Убыточность, %</th>\n",
       "      <th>Уровень заработной платы, руб/год</th>\n",
       "      <th>Cluster</th>\n",
       "    </tr>\n",
       "  </thead>\n",
       "  <tbody>\n",
       "    <tr>\n",
       "      <th>count</th>\n",
       "      <td>121.00</td>\n",
       "      <td>121.00</td>\n",
       "      <td>121.00</td>\n",
       "      <td>121.00</td>\n",
       "      <td>121.00</td>\n",
       "    </tr>\n",
       "    <tr>\n",
       "      <th>mean</th>\n",
       "      <td>24.50</td>\n",
       "      <td>2.59</td>\n",
       "      <td>203.02</td>\n",
       "      <td>700447.28</td>\n",
       "      <td>3.00</td>\n",
       "    </tr>\n",
       "    <tr>\n",
       "      <th>std</th>\n",
       "      <td>2.54</td>\n",
       "      <td>1.49</td>\n",
       "      <td>57.67</td>\n",
       "      <td>57143.67</td>\n",
       "      <td>0.00</td>\n",
       "    </tr>\n",
       "    <tr>\n",
       "      <th>min</th>\n",
       "      <td>20.00</td>\n",
       "      <td>1.00</td>\n",
       "      <td>101.00</td>\n",
       "      <td>602584.00</td>\n",
       "      <td>3.00</td>\n",
       "    </tr>\n",
       "    <tr>\n",
       "      <th>25%</th>\n",
       "      <td>22.00</td>\n",
       "      <td>1.00</td>\n",
       "      <td>158.00</td>\n",
       "      <td>649111.00</td>\n",
       "      <td>3.00</td>\n",
       "    </tr>\n",
       "    <tr>\n",
       "      <th>50%</th>\n",
       "      <td>25.00</td>\n",
       "      <td>2.00</td>\n",
       "      <td>196.00</td>\n",
       "      <td>692754.00</td>\n",
       "      <td>3.00</td>\n",
       "    </tr>\n",
       "    <tr>\n",
       "      <th>75%</th>\n",
       "      <td>27.00</td>\n",
       "      <td>4.00</td>\n",
       "      <td>257.00</td>\n",
       "      <td>747401.00</td>\n",
       "      <td>3.00</td>\n",
       "    </tr>\n",
       "    <tr>\n",
       "      <th>max</th>\n",
       "      <td>28.00</td>\n",
       "      <td>5.00</td>\n",
       "      <td>297.00</td>\n",
       "      <td>799461.00</td>\n",
       "      <td>3.00</td>\n",
       "    </tr>\n",
       "  </tbody>\n",
       "</table>\n",
       "</div>"
      ],
      "text/plain": [
       "       Возраст, лет  Стаж вождения, лет  Убыточность, %  \\\n",
       "count        121.00              121.00          121.00   \n",
       "mean          24.50                2.59          203.02   \n",
       "std            2.54                1.49           57.67   \n",
       "min           20.00                1.00          101.00   \n",
       "25%           22.00                1.00          158.00   \n",
       "50%           25.00                2.00          196.00   \n",
       "75%           27.00                4.00          257.00   \n",
       "max           28.00                5.00          297.00   \n",
       "\n",
       "       Уровень заработной платы, руб/год  Cluster  \n",
       "count                             121.00   121.00  \n",
       "mean                           700447.28     3.00  \n",
       "std                             57143.67     0.00  \n",
       "min                            602584.00     3.00  \n",
       "25%                            649111.00     3.00  \n",
       "50%                            692754.00     3.00  \n",
       "75%                            747401.00     3.00  \n",
       "max                            799461.00     3.00  "
      ]
     },
     "execution_count": 75,
     "metadata": {},
     "output_type": "execute_result"
    }
   ],
   "source": [
    "cluster3 = result[result['Cluster']== 3 ]\n",
    "cluster3.describe()"
   ]
  },
  {
   "cell_type": "markdown",
   "metadata": {},
   "source": [
    "Итоги\n",
    "---\n",
    "Подводя все выше сказанное, я бы выделила 4 типа клиентов. Это  \n",
    "  - Убыточные клиенты, с низким уровнем дохода, покупающие базовый обязательный пакет страхования. Возможно именно в этом сегменте базируются все страховые мошенники. Они составляют 50% от всех клиентов. \n",
    "  - Клиенты среднего достатка, с малым опытом вождения. Такие клиенты приобретают более дорогой пакет страховых услуг, так как они могут себе его позволить и заинтересованные в его приобритении. Составляют 25% от общей массы.\n",
    "  - Клиенты достатка выше стреднего с большим опытом вождения. Такие клиенты страхуют дорогие автомобили и редко попадают в страховые ситуации. Они приносят доход комании. Составляют 14% от общей массы.\n",
    "  - Клиенты с высоким уровнем дохода. Такие клиенты страхуют очень дорогие автомобили и редко попадают в страховые ситуации. Они также приносят основной доход компании и составляют 11/% от всего числа клиентов."
   ]
  },
  {
   "cell_type": "code",
   "execution_count": null,
   "metadata": {},
   "outputs": [],
   "source": []
  }
 ],
 "metadata": {
  "kernelspec": {
   "display_name": "Python 3",
   "language": "python",
   "name": "python3"
  },
  "language_info": {
   "codemirror_mode": {
    "name": "ipython",
    "version": 3
   },
   "file_extension": ".py",
   "mimetype": "text/x-python",
   "name": "python",
   "nbconvert_exporter": "python",
   "pygments_lexer": "ipython3",
   "version": "3.6.0"
  }
 },
 "nbformat": 4,
 "nbformat_minor": 2
}
