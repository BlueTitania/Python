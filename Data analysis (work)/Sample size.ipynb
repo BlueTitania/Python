{
 "cells": [
  {
   "cell_type": "markdown",
   "metadata": {},
   "source": [
    "Расчет размера выборки\n",
    "----"
   ]
  },
  {
   "cell_type": "code",
   "execution_count": 98,
   "metadata": {},
   "outputs": [
    {
     "name": "stdout",
     "output_type": "stream",
     "text": [
      "Populating the interactive namespace from numpy and matplotlib\n"
     ]
    },
    {
     "name": "stderr",
     "output_type": "stream",
     "text": [
      "c:\\users\\admin\\appdata\\local\\programs\\python\\python38\\lib\\site-packages\\IPython\\core\\magics\\pylab.py:159: UserWarning: pylab import has clobbered these variables: ['power']\n",
      "`%matplotlib` prevents importing * from pylab and numpy\n",
      "  warn(\"pylab import has clobbered these variables: %s\"  % clobbered +\n"
     ]
    }
   ],
   "source": [
    "import numpy as np\n",
    "import pandas as pd\n",
    "import matplotlib.pyplot as plt\n",
    "\n",
    "from scipy import stats\n",
    "from statsmodels.stats.descriptivestats import sign_test\n",
    "from statsmodels.stats.weightstats import zconfint\n",
    "\n",
    "%matplotlib inline\n",
    "%pylab inline"
   ]
  },
  {
   "cell_type": "markdown",
   "metadata": {},
   "source": [
    "Чистим данные от выбросов"
   ]
  },
  {
   "cell_type": "code",
   "execution_count": 123,
   "metadata": {},
   "outputs": [
    {
     "name": "stdout",
     "output_type": "stream",
     "text": [
      "playerid - 0%\n",
      "platform - 0%\n",
      "PurchaseCount - 0%\n",
      "MatchCount - 0%\n",
      "LevelCount - 0%\n",
      "SessionsCount - 0%\n",
      "SoftCurrencySpent - 0%\n",
      "HardCurrencySpent - 0%\n",
      "RealWorldCurrencySpent - 0%\n",
      "SessionTime - 0%\n"
     ]
    }
   ],
   "source": [
    "lvl5 = pd.read_csv('StatsFor5lvl.csv')\n",
    "drop_col = []\n",
    "for col in lvl5.columns:\n",
    "    pct_missing = np.mean(lvl5[col].isnull())\n",
    "    if pct_missing == 1:\n",
    "        drop_col.append(col)\n",
    "    print('{} - {}%'.format(col, round(pct_missing*100)))"
   ]
  },
  {
   "cell_type": "code",
   "execution_count": 110,
   "metadata": {},
   "outputs": [
    {
     "name": "stdout",
     "output_type": "stream",
     "text": [
      "count    3118.000000\n",
      "mean        0.082745\n",
      "std         0.478827\n",
      "min         0.000000\n",
      "25%         0.000000\n",
      "50%         0.000000\n",
      "75%         0.000000\n",
      "max         9.000000\n",
      "Name: PurchaseCount, dtype: float64\n",
      "count    3118.000000\n",
      "mean       15.106479\n",
      "std        19.922135\n",
      "min         0.000000\n",
      "25%         3.000000\n",
      "50%         8.000000\n",
      "75%        19.000000\n",
      "max       232.000000\n",
      "Name: MatchCount, dtype: float64\n",
      "count    3118.000000\n",
      "mean        3.171264\n",
      "std         3.630183\n",
      "min         0.000000\n",
      "25%         1.000000\n",
      "50%         2.000000\n",
      "75%         4.000000\n",
      "max        30.000000\n",
      "Name: LevelCount, dtype: float64\n",
      "count    3118.000000\n",
      "mean       14.966966\n",
      "std        21.810715\n",
      "min         1.000000\n",
      "25%         3.000000\n",
      "50%         7.000000\n",
      "75%        18.000000\n",
      "max       336.000000\n",
      "Name: SessionsCount, dtype: float64\n",
      "count      3118.000000\n",
      "mean      76639.015394\n",
      "std      107506.505695\n",
      "min           0.000000\n",
      "25%           0.000000\n",
      "50%       37900.000000\n",
      "75%       99350.000000\n",
      "max      870400.000000\n",
      "Name: SoftCurrencySpent, dtype: float64\n",
      "count     3118.000000\n",
      "mean        81.949326\n",
      "std        660.097704\n",
      "min          0.000000\n",
      "25%          0.000000\n",
      "50%          0.000000\n",
      "75%          0.000000\n",
      "max      13750.000000\n",
      "Name: HardCurrencySpent, dtype: float64\n",
      "count    3118.000000\n",
      "mean        0.370083\n",
      "std         2.838504\n",
      "min         0.000000\n",
      "25%         0.000000\n",
      "50%         0.000000\n",
      "75%         0.000000\n",
      "max        61.210000\n",
      "Name: RealWorldCurrencySpent, dtype: float64\n",
      "count      3118.000000\n",
      "mean       6117.115138\n",
      "std        8457.192865\n",
      "min           1.000000\n",
      "25%        1076.250000\n",
      "50%        3165.000000\n",
      "75%        7577.750000\n",
      "max      107977.000000\n",
      "Name: SessionTime, dtype: float64\n"
     ]
    }
   ],
   "source": [
    "for col in lvl5.columns:\n",
    "    if lvl5[col].dtype == 'int64' or lvl5[col].dtype == 'float64':\n",
    "        print(lvl5[col].describe())"
   ]
  },
  {
   "cell_type": "code",
   "execution_count": 109,
   "metadata": {},
   "outputs": [],
   "source": [
    "lvl5 = lvl5[lvl5['SessionTime'] >= 0]\n",
    "lvl5 = lvl5[lvl5['RealWorldCurrencySpent'] >= 0]\n",
    "\n",
    "for col in ['MatchCount', 'LevelCount', 'HardCurrencySpent']:\n",
    "    lvl5 = lvl5[lvl5[col] < max(lvl5[col])]"
   ]
  },
  {
   "cell_type": "code",
   "execution_count": 128,
   "metadata": {},
   "outputs": [
    {
     "data": {
      "text/plain": [
       "(array([6.30e+01, 1.70e+03, 6.22e+02, 3.02e+02, 1.75e+02, 9.30e+01,\n",
       "        6.60e+01, 5.70e+01, 3.30e+01, 1.90e+01, 1.70e+01, 1.20e+01,\n",
       "        3.00e+00, 7.00e+00, 4.00e+00, 1.00e+00, 4.00e+00, 2.00e+00,\n",
       "        2.00e+00, 0.00e+00, 1.00e+00, 0.00e+00, 0.00e+00, 0.00e+00,\n",
       "        1.00e+00, 0.00e+00, 0.00e+00, 0.00e+00, 1.00e+00, 1.00e+00]),\n",
       " array([-3.76600000e+03, -4.12333333e+01,  3.68353333e+03,  7.40830000e+03,\n",
       "         1.11330667e+04,  1.48578333e+04,  1.85826000e+04,  2.23073667e+04,\n",
       "         2.60321333e+04,  2.97569000e+04,  3.34816667e+04,  3.72064333e+04,\n",
       "         4.09312000e+04,  4.46559667e+04,  4.83807333e+04,  5.21055000e+04,\n",
       "         5.58302667e+04,  5.95550333e+04,  6.32798000e+04,  6.70045667e+04,\n",
       "         7.07293333e+04,  7.44541000e+04,  7.81788667e+04,  8.19036333e+04,\n",
       "         8.56284000e+04,  8.93531667e+04,  9.30779333e+04,  9.68027000e+04,\n",
       "         1.00527467e+05,  1.04252233e+05,  1.07977000e+05]),\n",
       " <a list of 30 Patch objects>)"
      ]
     },
     "execution_count": 128,
     "metadata": {},
     "output_type": "execute_result"
    },
    {
     "data": {
      "image/png": "[encoded data removed]",
      "text/plain": [
       "<Figure size 432x288 with 1 Axes>"
      ]
     },
     "metadata": {
      "needs_background": "light"
     },
     "output_type": "display_data"
    }
   ],
   "source": [
    "plt.hist(lvl5['SessionTime'], bins = 30)"
   ]
  },
  {
   "cell_type": "code",
   "execution_count": 89,
   "metadata": {},
   "outputs": [
    {
     "name": "stdout",
     "output_type": "stream",
     "text": [
      "playerid - 0%\n",
      "platform - 0%\n",
      "PurchaseCount - 0%\n",
      "MatchCount - 0%\n",
      "LevelCount - 0%\n",
      "SessionsCount - 0%\n",
      "SoftCurrencySpent - 0%\n",
      "HardCurrencySpent - 0%\n",
      "RealWorldCurrencySpent - 0%\n",
      "SessionTime - 0%\n"
     ]
    }
   ],
   "source": [
    "lvl10 = pd.read_csv('StatsFor10lvl.csv')\n",
    "drop_col = []\n",
    "for col in lvl10.columns:\n",
    "    pct_missing = np.mean(lvl10[col].isnull())\n",
    "    if pct_missing == 1:\n",
    "        drop_col.append(col)\n",
    "    print('{} - {}%'.format(col, round(pct_missing*100)))"
   ]
  },
  {
   "cell_type": "code",
   "execution_count": 116,
   "metadata": {},
   "outputs": [
    {
     "name": "stdout",
     "output_type": "stream",
     "text": [
      "count    1412.000000\n",
      "mean        0.121813\n",
      "std         0.591127\n",
      "min         0.000000\n",
      "25%         0.000000\n",
      "50%         0.000000\n",
      "75%         0.000000\n",
      "max         9.000000\n",
      "Name: PurchaseCount, dtype: float64\n",
      "count    1412.000000\n",
      "mean       18.655807\n",
      "std        22.568907\n",
      "min         0.000000\n",
      "25%         4.000000\n",
      "50%        12.000000\n",
      "75%        25.000000\n",
      "max       213.000000\n",
      "Name: MatchCount, dtype: float64\n",
      "count    1412.000000\n",
      "mean        3.837819\n",
      "std         3.394858\n",
      "min         1.000000\n",
      "25%         1.000000\n",
      "50%         3.000000\n",
      "75%         5.000000\n",
      "max        26.000000\n",
      "Name: LevelCount, dtype: float64\n",
      "count    1412.000000\n",
      "mean       20.349150\n",
      "std        24.498295\n",
      "min         1.000000\n",
      "25%         4.000000\n",
      "50%        11.000000\n",
      "75%        26.000000\n",
      "max       222.000000\n",
      "Name: SessionsCount, dtype: float64\n",
      "count      1412.000000\n",
      "mean     116758.073654\n",
      "std      126727.602055\n",
      "min           0.000000\n",
      "25%       11675.000000\n",
      "50%       86800.000000\n",
      "75%      178125.000000\n",
      "max      889100.000000\n",
      "Name: SoftCurrencySpent, dtype: float64\n",
      "count     1412.000000\n",
      "mean        93.463881\n",
      "std        768.880604\n",
      "min          0.000000\n",
      "25%          0.000000\n",
      "50%          0.000000\n",
      "75%          0.000000\n",
      "max      14600.000000\n",
      "Name: HardCurrencySpent, dtype: float64\n",
      "count    1412.000000\n",
      "mean        0.503810\n",
      "std         3.266313\n",
      "min         0.000000\n",
      "25%         0.000000\n",
      "50%         0.000000\n",
      "75%         0.000000\n",
      "max        65.110000\n",
      "Name: RealWorldCurrencySpent, dtype: float64\n",
      "count      1412.000000\n",
      "mean       7843.672805\n",
      "std        9828.174361\n",
      "min           6.000000\n",
      "25%        1579.750000\n",
      "50%        4734.000000\n",
      "75%       10211.500000\n",
      "max      100803.000000\n",
      "Name: SessionTime, dtype: float64\n"
     ]
    }
   ],
   "source": [
    "for col in lvl10.columns:\n",
    "    if lvl10[col].dtype == 'int64' or lvl10[col].dtype == 'float64':\n",
    "        print(lvl10[col].describe())"
   ]
  },
  {
   "cell_type": "code",
   "execution_count": 122,
   "metadata": {},
   "outputs": [
    {
     "data": {
      "text/plain": [
       "(array([385.,   1.,   1.,   1.,   0.,   0.,   1.,   2.,   2.,   0.,   1.,\n",
       "          0.,   0.,   0.,   0.,   0.,   1.,   2.,   1.,   0.,   0.,   0.,\n",
       "          0.,   0.,   0.,   0.,   0.,   0.,   0.,   0.,   1.,   0.,   0.,\n",
       "          0.,   0.,   0.,   0.,   0.,   0.,   0.,   0.,   0.,   0.,   0.,\n",
       "          0.,   0.,   0.,   0.,   0.,   1.]),\n",
       " array([    0.,   292.,   584.,   876.,  1168.,  1460.,  1752.,  2044.,\n",
       "         2336.,  2628.,  2920.,  3212.,  3504.,  3796.,  4088.,  4380.,\n",
       "         4672.,  4964.,  5256.,  5548.,  5840.,  6132.,  6424.,  6716.,\n",
       "         7008.,  7300.,  7592.,  7884.,  8176.,  8468.,  8760.,  9052.,\n",
       "         9344.,  9636.,  9928., 10220., 10512., 10804., 11096., 11388.,\n",
       "        11680., 11972., 12264., 12556., 12848., 13140., 13432., 13724.,\n",
       "        14016., 14308., 14600.]),\n",
       " <a list of 50 Patch objects>)"
      ]
     },
     "execution_count": 122,
     "metadata": {},
     "output_type": "execute_result"
    },
    {
     "data": {
      "image/png": "[encoded data removed]",
      "text/plain": [
       "<Figure size 432x288 with 1 Axes>"
      ]
     },
     "metadata": {
      "needs_background": "light"
     },
     "output_type": "display_data"
    }
   ],
   "source": [
    "lvl10 = lvl10[lvl10['RealWorldCurrencySpent'] >= 0]\n",
    "lvl10 = lvl10[lvl10['SessionTime'] >= 0]\n",
    "# for col in ['HardCurrencySpent']:\n",
    "#     lvl10 = lvl10[lvl10[col] < max(lvl10[col])]\n",
    "plt.hist(lvl10[lvl10['platform'] == 'IPhonePlayer']['HardCurrencySpent'], bins = 50)"
   ]
  },
  {
   "cell_type": "markdown",
   "metadata": {},
   "source": [
    "\n",
    "baseline_rate = conversions_control / total_users_control\n",
    "practical_significance = 0.01 #user defined\n",
    "confidence_level = 0.05 #user defined, for a 95% confidence interval\n",
    "sensitivity = 0.8 #user defined\n",
    "\n",
    "effect_size = sms.proportion_effectsize(baseline_rate, baseline_rate + practical_significance)\n",
    "sample_size = sms.NormalIndPower().solve_power(effect_size = effect_size, power = sensitivity, \n",
    "                                               alpha = confidence_level, ratio=1)\n",
    "print(\"Required sample size: \", round(sample_size), \" per group\")\n"
   ]
  },
  {
   "cell_type": "code",
   "execution_count": 91,
   "metadata": {},
   "outputs": [],
   "source": [
    "from statsmodels.stats.power import tt_ind_solve_power\n",
    "\n",
    "mean_diff, sd_diff = lvl5['RealWorldCurrencySpent'].mean() , lvl5['RealWorldCurrencySpent'].std()\n",
    "\n",
    "def calutate_sample_size(df, min, max, step):\n",
    "    \"\"\" Функция подсчета размера группы теста по Ткритерию \n",
    "    df - DataFrame\n",
    "    min - минимальное % изменение\n",
    "    max - максимальное процентное изменение\n",
    "    step - шаг процентного изменения \"\"\"\n",
    "    upload = pd.DataFrame(data = {'% diff': [round(x*100, 2) for x in np.arange(min, max, step)]})\n",
    "    for col in df.columns:\n",
    "        if df[col].dtype == 'int64' or df[col].dtype == 'float64':\n",
    "            col_arr = []\n",
    "            for x in np.arange(min, max, step):\n",
    "                std_effect_size = (df[col].mean() * (1+x) - df[col].mean())  / df[col].std()\n",
    "                n = tt_ind_solve_power(effect_size=std_effect_size, alpha=0.05, power=0.8, ratio=1, alternative='two-sided')\n",
    "                col_arr.append(n)\n",
    "\n",
    "            upload[col] = col_arr\n",
    "    return upload"
   ]
  },
  {
   "cell_type": "code",
   "execution_count": 112,
   "metadata": {},
   "outputs": [],
   "source": [
    "upload = calutate_sample_size(lvl5[lvl5['platform'] == 'Android'], 0.01, 0.26, 0.01)\n",
    "upload.to_csv('upload_lvl5_andriod.csv', encoding = 'utf-8')\n",
    "\n",
    "upload = calutate_sample_size(lvl5[lvl5['platform'] == 'IPhonePlayer'], 0.01, 0.26, 0.01)\n",
    "upload.to_csv('upload_lvl5_iphone.csv', encoding = 'utf-8')"
   ]
  },
  {
   "cell_type": "code",
   "execution_count": 118,
   "metadata": {},
   "outputs": [],
   "source": [
    "upload = calutate_sample_size(lvl10[lvl10['platform'] == 'Android'], 0.01, 0.26, 0.01)\n",
    "upload.to_csv('upload_lvl10_andriod.csv', encoding = 'utf-8')\n",
    "\n",
    "upload = calutate_sample_size(lvl10[lvl10['platform'] == 'IPhonePlayer'], 0.01, 0.26, 0.01)\n",
    "upload.to_csv('upload_lvl10_iphone.csv', encoding = 'utf-8')"
   ]
  },
  {
   "cell_type": "markdown",
   "metadata": {},
   "source": [
    "Нормальность распредедления\n",
    "----"
   ]
  },
  {
   "cell_type": "code",
   "execution_count": 84,
   "metadata": {},
   "outputs": [
    {
     "name": "stdout",
     "output_type": "stream",
     "text": [
      "PurchaseCount ShapiroResult(statistic=0.19356077909469604, pvalue=0.0)\n",
      "MatchCount ShapiroResult(statistic=0.7496380805969238, pvalue=4.93957708674498e-42)\n",
      "LevelCount ShapiroResult(statistic=0.7948320508003235, pvalue=3.932976755672677e-39)\n",
      "SessionsCount ShapiroResult(statistic=0.7467566728591919, pvalue=3.339294240486039e-42)\n",
      "SoftCurrencySpent ShapiroResult(statistic=0.8305090665817261, pvalue=1.8920906733995685e-36)\n",
      "HardCurrencySpent ShapiroResult(statistic=0.0793105959892273, pvalue=0.0)\n",
      "RealWorldCurrencySpent ShapiroResult(statistic=0.09806352853775024, pvalue=0.0)\n",
      "SessionTime ShapiroResult(statistic=0.24311572313308716, pvalue=0.0)\n"
     ]
    }
   ],
   "source": [
    "import scipy.stats as stats\n",
    "# H0 данные распределены нормально\n",
    "for col in lvl10.drop(columns = ['playerid']).columns: \n",
    "    if lvl10[col].dtype == 'int64' or lvl10[col].dtype == 'float64':\n",
    "        print (col, stats.shapiro(lvl10[col]))"
   ]
  },
  {
   "cell_type": "code",
   "execution_count": 136,
   "metadata": {},
   "outputs": [
    {
     "data": {
      "image/png": "[encoded data removed]",
      "text/plain": [
       "<Figure size 432x288 with 1 Axes>"
      ]
     },
     "metadata": {
      "needs_background": "light"
     },
     "output_type": "display_data"
    },
    {
     "data": {
      "image/png": "[encoded data removed]",
      "text/plain": [
       "<Figure size 432x288 with 1 Axes>"
      ]
     },
     "metadata": {
      "needs_background": "light"
     },
     "output_type": "display_data"
    },
    {
     "data": {
      "image/png": "[encoded data removed]",
      "text/plain": [
       "<Figure size 432x288 with 1 Axes>"
      ]
     },
     "metadata": {
      "needs_background": "light"
     },
     "output_type": "display_data"
    },
    {
     "data": {
      "image/png": "[encoded data removed]",
      "text/plain": [
       "<Figure size 432x288 with 1 Axes>"
      ]
     },
     "metadata": {
      "needs_background": "light"
     },
     "output_type": "display_data"
    },
    {
     "data": {
      "image/png": "[encoded data removed]",
      "text/plain": [
       "<Figure size 432x288 with 1 Axes>"
      ]
     },
     "metadata": {
      "needs_background": "light"
     },
     "output_type": "display_data"
    },
    {
     "data": {
      "image/png": "[encoded data removed]",
      "text/plain": [
       "<Figure size 432x288 with 1 Axes>"
      ]
     },
     "metadata": {
      "needs_background": "light"
     },
     "output_type": "display_data"
    },
    {
     "data": {
      "image/png": "[encoded data removed]",
      "text/plain": [
       "<Figure size 432x288 with 1 Axes>"
      ]
     },
     "metadata": {
      "needs_background": "light"
     },
     "output_type": "display_data"
    },
    {
     "data": {
      "image/png": "[encoded data removed]",
      "text/plain": [
       "<Figure size 432x288 with 1 Axes>"
      ]
     },
     "metadata": {
      "needs_background": "light"
     },
     "output_type": "display_data"
    }
   ],
   "source": [
    "for i, col in enumerate(lvl10.drop(columns = ['playerid']).columns): \n",
    "    if lvl10[col].dtype == 'int64' or lvl10[col].dtype == 'float64':\n",
    "        fig = plt.figure()\n",
    "        ax = fig.add_subplot(111)\n",
    "        x = stats.loggamma.rvs(c=2.5, size=500)\n",
    "        res = stats.probplot(lvl10[col], dist=stats.loggamma, sparams=(2.5,), plot=ax)\n",
    "        ax.set_title(\"{}\".format(col))\n",
    "pylab.show()"
   ]
  },
  {
   "cell_type": "markdown",
   "metadata": {},
   "source": [
    "Размер выборки для конверсии\n",
    "---\n",
    "https://medium.com/@henryfeng/handy-functions-for-a-b-testing-in-python-f6fdff892a90 - статья из которой взят код"
   ]
  },
  {
   "cell_type": "markdown",
   "metadata": {},
   "source": [
    "https://www.evanmiller.org/ab-testing/chi-squared.html - калькулятор, с которым можно сравнить"
   ]
  },
  {
   "cell_type": "code",
   "execution_count": 59,
   "metadata": {},
   "outputs": [],
   "source": [
    "from scipy import stats\n",
    "\n",
    "def get_power(n, p1, p2, cl):\n",
    "    alpha = 1 - cl\n",
    "    qu = stats.norm.ppf(1 - alpha/2)\n",
    "    diff = abs(p2-p1)\n",
    "    bp = (p1+p2) / 2\n",
    "    \n",
    "    v1 = p1 * (1-p1)\n",
    "    v2 = p2 * (1-p2)\n",
    "    bv = bp * (1-bp)\n",
    "    \n",
    "    power_part_one = stats.norm.cdf((n**0.5 * diff - qu * (2 * bv)**0.5) / (v1+v2) ** 0.5)\n",
    "    power_part_two = 1 - stats.norm.cdf((n**0.5 * diff + qu * (2 * bv)**0.5) / (v1+v2) ** 0.5)\n",
    "    \n",
    "    power = power_part_one + power_part_two\n",
    "    \n",
    "    return (power)"
   ]
  },
  {
   "cell_type": "code",
   "execution_count": 60,
   "metadata": {},
   "outputs": [],
   "source": [
    "def get_sample_size(power, p1, p2, cl, max_n=10000000):\n",
    "    n = 1 \n",
    "    while n <= max_n:\n",
    "        tmp_power = get_power(n, p1, p2, cl)\n",
    "        if tmp_power >= power: \n",
    "            return n \n",
    "        else: \n",
    "            n = n + 100\n",
    "    return \"Increase Max N Value\""
   ]
  },
  {
   "cell_type": "code",
   "execution_count": 61,
   "metadata": {},
   "outputs": [],
   "source": [
    "def calculate_conversion(dict, power, cl, min, max, step):\n",
    "    upload = pd.DataFrame(data = {'% diff': [round(x*100, 2) for x in np.arange(min, max, step)]})\n",
    "    for key, item in dict.items():\n",
    "        key_arr = []\n",
    "        conversion_rate = item\n",
    "        for x in np.arange(min, max, step):\n",
    "            percent_lift = x\n",
    "            conversion_rate_p2 = conversion_rate * (1 + percent_lift)\n",
    "            n = get_sample_size(power, conversion_rate, conversion_rate_p2, cl)\n",
    "            key_arr.append(n)\n",
    "        upload[key] = key_arr\n",
    "    return upload"
   ]
  },
  {
   "cell_type": "code",
   "execution_count": 62,
   "metadata": {},
   "outputs": [],
   "source": [
    "power = 0.8\n",
    "cl = 0.95\n",
    "\n",
    "conversion_andriod = {'D1' : 0.216,\n",
    "             'D3' : 0.0837,\n",
    "             'D7' : 0.038,\n",
    "             'Converion': 0.0295}\n",
    "\n",
    "conversion_iphone = {'D1' : 0.293,\n",
    "                     'D3' : 0.127,\n",
    "                     'D7' : 0.0667,\n",
    "                     'Converion': 0.0618}\n",
    "\n",
    "upload = calculate_conversion(conversion_andriod, power, cl, 0.01, 0.26, 0.01)\n",
    "upload.to_csv('upload_andriod.csv', encoding = 'utf-8')\n"
   ]
  },
  {
   "cell_type": "code",
   "execution_count": 64,
   "metadata": {},
   "outputs": [],
   "source": [
    "upload = calculate_conversion(conversion_iphone, power, cl, 0.01, 0.26, 0.01)\n",
    "upload.to_csv('upload_iphone.csv', encoding = 'utf-8')"
   ]
  },
  {
   "cell_type": "code",
   "execution_count": 67,
   "metadata": {},
   "outputs": [],
   "source": [
    "def get_pvalue(con_conv, test_conv, con_size, test_size):\n",
    "    lift = -abs(test_conv - con_conv)\n",
    "    \n",
    "    scale_one = con_conv * (1-con_conv) * (1/ con_size)\n",
    "    scale_two = test_conv * (1-test_conv) * (1/ test_size)\n",
    "    scale_val = (scale_one + scale_two) ** 0.5\n",
    "    \n",
    "    p_value = 2 * stats.norm.cdf(lift, loc=0, scale = scale_val)  \n",
    "    return p_value"
   ]
  },
  {
   "cell_type": "code",
   "execution_count": 83,
   "metadata": {},
   "outputs": [
    {
     "data": {
      "text/plain": [
       "0.21759022341658107"
      ]
     },
     "execution_count": 83,
     "metadata": {},
     "output_type": "execute_result"
    }
   ],
   "source": [
    "# Trial 1\n",
    "con_conv = 0.216\n",
    "test_conv = 0.223\n",
    "con_size = 59010\n",
    "\n",
    "test_size = 5901\n",
    "\n",
    "get_pvalue(con_conv, test_conv, con_size, test_size)  "
   ]
  },
  {
   "cell_type": "code",
   "execution_count": null,
   "metadata": {},
   "outputs": [],
   "source": []
  }
 ],
 "metadata": {
  "kernelspec": {
   "display_name": "Python 3",
   "language": "python",
   "name": "python3"
  },
  "language_info": {
   "codemirror_mode": {
    "name": "ipython",
    "version": 3
   },
   "file_extension": ".py",
   "mimetype": "text/x-python",
   "name": "python",
   "nbconvert_exporter": "python",
   "pygments_lexer": "ipython3",
   "version": "3.8.3"
  }
 },
 "nbformat": 4,
 "nbformat_minor": 4
}
